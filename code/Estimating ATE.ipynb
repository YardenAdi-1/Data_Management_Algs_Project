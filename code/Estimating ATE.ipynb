{
 "cells": [
  {
   "cell_type": "markdown",
   "metadata": {},
   "source": [
    "# Estimating Average Treatment Effect (ATE)"
   ]
  },
  {
   "cell_type": "code",
   "execution_count": 109,
   "metadata": {},
   "outputs": [],
   "source": [
    "import sys\n",
    "import os\n",
    "import matplotlib.pyplot as plt\n",
    "import seaborn as sns\n",
    "import numpy as np\n",
    "import pandas as pd\n",
    "from collections import Counter\n",
    "\n",
    "plt.style.use('ggplot')\n",
    "PATH_TO_ESTIMATION_METHODS = 'estimation_methods'\n",
    "sys.path.append(os.path.abspath(PATH_TO_ESTIMATION_METHODS))\n",
    "np.random.seed(42)"
   ]
  },
  {
   "cell_type": "code",
   "execution_count": 110,
   "metadata": {},
   "outputs": [],
   "source": [
    "from estimation_methods.utils import read_and_transform_data, bci\n",
    "from estimation_methods.s_learner import calculate_measures_s_learner\n",
    "from estimation_methods.t_learner import calculate_measures_t_learner\n",
    "from estimation_methods.inverse_probability_weighting import calculate_measures_ipw\n",
    "from estimation_methods.propensity_score_matching import calculate_measures_matching\n",
    "from estimation_methods.doubly_robust import calculate_measures_doubly_robust\n",
    "from estimation_methods.utils import read_and_transform_data, bci"
   ]
  },
  {
   "cell_type": "code",
   "execution_count": 111,
   "metadata": {},
   "outputs": [],
   "source": [
    "DATA_DIR = 'data/processed'\n",
    "age_thresholds = [20, 21, 23]\n",
    "outcome_definitions = ['strict', 'inclusive']\n",
    "models = ['S-Learner', 'T-Learner', 'IPW', 'PSM', 'Doubly Robust']\n",
    "configurations = [(age_threshold, outcome_definition, model) for age_threshold in age_thresholds for outcome_definition in outcome_definitions for model in models]\n",
    "ate_results = {configuration: 0 for configuration in configurations}\n",
    "ate_results_ci = {configuration: [] for configuration in configurations}"
   ]
  },
  {
   "cell_type": "markdown",
   "metadata": {},
   "source": [
    "## Covariate Adjustments"
   ]
  },
  {
   "cell_type": "markdown",
   "metadata": {},
   "source": [
    "### S - Learner"
   ]
  },
  {
   "cell_type": "code",
   "execution_count": 112,
   "metadata": {},
   "outputs": [
    {
     "name": "stdout",
     "output_type": "stream",
     "text": [
      "Processing: data/processed/processed_age_20_outcome_strict.csv\n",
      "S-Learner ATE (Age >= 20, Outcome: strict): -0.08067383925824813\n",
      "Processing: data/processed/processed_age_20_outcome_inclusive.csv\n",
      "S-Learner ATE (Age >= 20, Outcome: inclusive): -0.07200670570766919\n",
      "Processing: data/processed/processed_age_21_outcome_strict.csv\n",
      "S-Learner ATE (Age >= 21, Outcome: strict): -0.11339391608952502\n",
      "Processing: data/processed/processed_age_21_outcome_inclusive.csv\n",
      "S-Learner ATE (Age >= 21, Outcome: inclusive): -0.13777315898023176\n",
      "Processing: data/processed/processed_age_23_outcome_strict.csv\n",
      "S-Learner ATE (Age >= 23, Outcome: strict): -0.15982629298828968\n",
      "Processing: data/processed/processed_age_23_outcome_inclusive.csv\n",
      "S-Learner ATE (Age >= 23, Outcome: inclusive): -0.18249226074244354\n"
     ]
    }
   ],
   "source": [
    "# Iterate through all dataset configurations\n",
    "for age_threshold in age_thresholds:\n",
    "    for outcome_type in outcome_definitions:\n",
    "        # Construct file path\n",
    "        DATA_PATH = os.path.join(DATA_DIR, f\"processed_age_{age_threshold}_outcome_{outcome_type}.csv\")\n",
    "\n",
    "        if os.path.exists(DATA_PATH):\n",
    "            print(f\"Processing: {DATA_PATH}\")\n",
    "            x, t, y = read_and_transform_data(DATA_PATH)\n",
    "\n",
    "            # Compute only the ATE using the S-Learner\n",
    "            s_learner_ate, _, _ = calculate_measures_s_learner(x, t, y)\n",
    "\n",
    "            # Store the results\n",
    "            ate_results[(age_threshold, outcome_type, 'S-Learner')] = s_learner_ate\n",
    "\n",
    "            # Print the results for each configuration\n",
    "            print(f'S-Learner ATE (Age >= {age_threshold}, Outcome: {outcome_type}): {s_learner_ate}')\n",
    "        else:\n",
    "            print(f\"Warning: {DATA_PATH} not found. Skipping.\")"
   ]
  },
  {
   "cell_type": "code",
   "execution_count": 113,
   "metadata": {},
   "outputs": [
    {
     "name": "stdout",
     "output_type": "stream",
     "text": [
      "Processing: data/processed/processed_age_20_outcome_strict.csv\n",
      "S-Learner ATE 95% CI (Age >= 20, Outcome: strict): [-0.11213038 -0.04872748]\n",
      "Processing: data/processed/processed_age_20_outcome_inclusive.csv\n",
      "S-Learner ATE 95% CI (Age >= 20, Outcome: inclusive): [-0.0963043  -0.04492091]\n",
      "Processing: data/processed/processed_age_21_outcome_strict.csv\n",
      "S-Learner ATE 95% CI (Age >= 21, Outcome: strict): [-0.14767234 -0.08187412]\n",
      "Processing: data/processed/processed_age_21_outcome_inclusive.csv\n",
      "S-Learner ATE 95% CI (Age >= 21, Outcome: inclusive): [-0.16347941 -0.10093518]\n",
      "Processing: data/processed/processed_age_23_outcome_strict.csv\n",
      "S-Learner ATE 95% CI (Age >= 23, Outcome: strict): [-0.19464585 -0.12029559]\n",
      "Processing: data/processed/processed_age_23_outcome_inclusive.csv\n",
      "S-Learner ATE 95% CI (Age >= 23, Outcome: inclusive): [-0.21664918 -0.1433621 ]\n"
     ]
    }
   ],
   "source": [
    "# Iterate through all dataset configurations\n",
    "for age_threshold in age_thresholds:\n",
    "    for outcome_type in outcome_definitions:\n",
    "        # Construct file path\n",
    "        DATA_PATH = os.path.join(DATA_DIR, f\"processed_age_{age_threshold}_outcome_{outcome_type}.csv\")\n",
    "\n",
    "        if os.path.exists(DATA_PATH):\n",
    "            print(f\"Processing: {DATA_PATH}\")\n",
    "            x, t, y = read_and_transform_data(DATA_PATH)\n",
    "\n",
    "            # Compute ATE with bootstrap confidence interval\n",
    "            s_learner_ate_ci, _, _, bootstrap_s_learner_ate, _, _ = bci(x, t, y, calculate_measures_s_learner)\n",
    "\n",
    "            # Store the results\n",
    "            ate_results_ci[(age_threshold, outcome_type, 'S-Learner')] = s_learner_ate_ci\n",
    "\n",
    "            # Print results for each configuration\n",
    "            print(f'S-Learner ATE 95% CI (Age >= {age_threshold}, Outcome: {outcome_type}): {s_learner_ate_ci}')\n",
    "        else:\n",
    "            print(f\"Warning: {DATA_PATH} not found. Skipping.\")"
   ]
  },
  {
   "cell_type": "markdown",
   "metadata": {},
   "source": [
    "### T - Learner"
   ]
  },
  {
   "cell_type": "code",
   "execution_count": 114,
   "metadata": {},
   "outputs": [
    {
     "name": "stdout",
     "output_type": "stream",
     "text": [
      "Processing: data/processed/processed_age_20_outcome_strict.csv\n",
      "T-Learner ATE (Age >= 20, Outcome: strict): -0.0961535373517876\n",
      "Processing: data/processed/processed_age_20_outcome_inclusive.csv\n",
      "T-Learner ATE (Age >= 20, Outcome: inclusive): -0.07654443757253655\n",
      "Processing: data/processed/processed_age_21_outcome_strict.csv\n",
      "T-Learner ATE (Age >= 21, Outcome: strict): -0.1287578844537386\n",
      "Processing: data/processed/processed_age_21_outcome_inclusive.csv\n",
      "T-Learner ATE (Age >= 21, Outcome: inclusive): -0.14616042486830488\n",
      "Processing: data/processed/processed_age_23_outcome_strict.csv\n",
      "T-Learner ATE (Age >= 23, Outcome: strict): -0.20202047932214054\n",
      "Processing: data/processed/processed_age_23_outcome_inclusive.csv\n",
      "T-Learner ATE (Age >= 23, Outcome: inclusive): -0.21099477857463905\n"
     ]
    }
   ],
   "source": [
    "# Iterate through all dataset configurations\n",
    "for age_threshold in age_thresholds:\n",
    "    for outcome_type in outcome_definitions:\n",
    "        # Construct file path\n",
    "        DATA_PATH = os.path.join(DATA_DIR, f\"processed_age_{age_threshold}_outcome_{outcome_type}.csv\")\n",
    "\n",
    "        if os.path.exists(DATA_PATH):\n",
    "            print(f\"Processing: {DATA_PATH}\")\n",
    "            x, t, y = read_and_transform_data(DATA_PATH)\n",
    "\n",
    "            # Compute only the ATE using the T-Learner\n",
    "            t_learner_ate, _, _ = calculate_measures_t_learner(x, t, y)\n",
    "\n",
    "            # Store the results\n",
    "            ate_results[(age_threshold, outcome_type, 'T-Learner')] = t_learner_ate\n",
    "\n",
    "            # Print the results for each configuration\n",
    "            print(f'T-Learner ATE (Age >= {age_threshold}, Outcome: {outcome_type}): {t_learner_ate}')\n",
    "        else:\n",
    "            print(f\"Warning: {DATA_PATH} not found. Skipping.\")"
   ]
  },
  {
   "cell_type": "code",
   "execution_count": 115,
   "metadata": {},
   "outputs": [
    {
     "name": "stdout",
     "output_type": "stream",
     "text": [
      "Processing: data/processed/processed_age_20_outcome_strict.csv\n",
      "T-Learner ATE 95% CI (Age >= 20, Outcome: strict): [-0.14169557 -0.06556914]\n",
      "Processing: data/processed/processed_age_20_outcome_inclusive.csv\n",
      "T-Learner ATE 95% CI (Age >= 20, Outcome: inclusive): [-0.12698825 -0.05014678]\n",
      "Processing: data/processed/processed_age_21_outcome_strict.csv\n",
      "T-Learner ATE 95% CI (Age >= 21, Outcome: strict): [-0.17644937 -0.09986812]\n",
      "Processing: data/processed/processed_age_21_outcome_inclusive.csv\n",
      "T-Learner ATE 95% CI (Age >= 21, Outcome: inclusive): [-0.18271    -0.10911569]\n",
      "Processing: data/processed/processed_age_23_outcome_strict.csv\n",
      "T-Learner ATE 95% CI (Age >= 23, Outcome: strict): [-0.24727279 -0.16016422]\n",
      "Processing: data/processed/processed_age_23_outcome_inclusive.csv\n",
      "T-Learner ATE 95% CI (Age >= 23, Outcome: inclusive): [-0.25632191 -0.17229211]\n"
     ]
    }
   ],
   "source": [
    "# Iterate through all dataset configurations\n",
    "for age_threshold in age_thresholds:\n",
    "    for outcome_type in outcome_definitions:\n",
    "        # Construct file path\n",
    "        DATA_PATH = os.path.join(DATA_DIR, f\"processed_age_{age_threshold}_outcome_{outcome_type}.csv\")\n",
    "\n",
    "        if os.path.exists(DATA_PATH):\n",
    "            print(f\"Processing: {DATA_PATH}\")\n",
    "            x, t, y = read_and_transform_data(DATA_PATH)\n",
    "\n",
    "            # Compute ATE with bootstrap confidence interval\n",
    "            t_learner_ate_ci, _, _, bootstrap_t_learner_ate, _, _ = bci(x, t, y, calculate_measures_t_learner)\n",
    "\n",
    "            # Store the results\n",
    "            ate_results_ci[(age_threshold, outcome_type, 'T-Learner')] = t_learner_ate_ci\n",
    "\n",
    "            # Print results for each configuration\n",
    "            print(f'T-Learner ATE 95% CI (Age >= {age_threshold}, Outcome: {outcome_type}): {t_learner_ate_ci}')\n",
    "        else:\n",
    "            print(f\"Warning: {DATA_PATH} not found. Skipping.\")"
   ]
  },
  {
   "cell_type": "markdown",
   "metadata": {},
   "source": [
    "## Propensity Based Methods"
   ]
  },
  {
   "cell_type": "markdown",
   "metadata": {},
   "source": [
    "### Inverse Probability Weighting"
   ]
  },
  {
   "cell_type": "code",
   "execution_count": 116,
   "metadata": {},
   "outputs": [
    {
     "name": "stdout",
     "output_type": "stream",
     "text": [
      "Processing: data/processed/processed_age_20_outcome_strict.csv\n",
      "IPW ATE (Age >= 20, Outcome: strict): -0.05860693339229134\n",
      "Processing: data/processed/processed_age_20_outcome_inclusive.csv\n",
      "IPW ATE (Age >= 20, Outcome: inclusive): -0.027818243222401895\n",
      "Processing: data/processed/processed_age_21_outcome_strict.csv\n",
      "IPW ATE (Age >= 21, Outcome: strict): -0.20560624935817998\n",
      "Processing: data/processed/processed_age_21_outcome_inclusive.csv\n",
      "IPW ATE (Age >= 21, Outcome: inclusive): -0.24038574170097032\n",
      "Processing: data/processed/processed_age_23_outcome_strict.csv\n",
      "IPW ATE (Age >= 23, Outcome: strict): -0.31267391835172004\n",
      "Processing: data/processed/processed_age_23_outcome_inclusive.csv\n",
      "IPW ATE (Age >= 23, Outcome: inclusive): -0.39608565651870964\n"
     ]
    }
   ],
   "source": [
    "# Iterate through all dataset configurations\n",
    "for age_threshold in age_thresholds:\n",
    "    for outcome_type in outcome_definitions:\n",
    "        # Construct file path\n",
    "        DATA_PATH = os.path.join(DATA_DIR, f\"processed_age_{age_threshold}_outcome_{outcome_type}.csv\")\n",
    "\n",
    "        if os.path.exists(DATA_PATH):\n",
    "            print(f\"Processing: {DATA_PATH}\")\n",
    "            x, t, y = read_and_transform_data(DATA_PATH)\n",
    "\n",
    "            # Compute only the ATE using IPW\n",
    "            ipw_ate, _, _ = calculate_measures_ipw(x, t, y)\n",
    "\n",
    "            # Store the results\n",
    "            ate_results[(age_threshold, outcome_type, 'IPW')] = ipw_ate\n",
    "\n",
    "            # Print the results for each configuration\n",
    "            print(f'IPW ATE (Age >= {age_threshold}, Outcome: {outcome_type}): {ipw_ate}')\n",
    "        else:\n",
    "            print(f\"Warning: {DATA_PATH} not found. Skipping.\")"
   ]
  },
  {
   "cell_type": "code",
   "execution_count": 117,
   "metadata": {},
   "outputs": [
    {
     "name": "stdout",
     "output_type": "stream",
     "text": [
      "Processing: data/processed/processed_age_20_outcome_strict.csv\n",
      "IPW ATE 95% CI (Age >= 20, Outcome: strict): [-0.07839554 -0.03638822]\n",
      "Processing: data/processed/processed_age_20_outcome_inclusive.csv\n",
      "IPW ATE 95% CI (Age >= 20, Outcome: inclusive): [-0.05327585 -0.0070369 ]\n",
      "Processing: data/processed/processed_age_21_outcome_strict.csv\n",
      "IPW ATE 95% CI (Age >= 21, Outcome: strict): [-0.22478508 -0.18289286]\n",
      "Processing: data/processed/processed_age_21_outcome_inclusive.csv\n",
      "IPW ATE 95% CI (Age >= 21, Outcome: inclusive): [-0.26237622 -0.21563762]\n",
      "Processing: data/processed/processed_age_23_outcome_strict.csv\n",
      "IPW ATE 95% CI (Age >= 23, Outcome: strict): [-0.32904491 -0.29031156]\n",
      "Processing: data/processed/processed_age_23_outcome_inclusive.csv\n",
      "IPW ATE 95% CI (Age >= 23, Outcome: inclusive): [-0.41408753 -0.37067412]\n"
     ]
    }
   ],
   "source": [
    "# Iterate through all dataset configurations\n",
    "for age_threshold in age_thresholds:\n",
    "    for outcome_type in outcome_definitions:\n",
    "        # Construct file path\n",
    "        DATA_PATH = os.path.join(DATA_DIR, f\"processed_age_{age_threshold}_outcome_{outcome_type}.csv\")\n",
    "\n",
    "        if os.path.exists(DATA_PATH):\n",
    "            print(f\"Processing: {DATA_PATH}\")\n",
    "            x, t, y = read_and_transform_data(DATA_PATH)\n",
    "\n",
    "            # Compute ATE with bootstrap confidence interval\n",
    "            ipw_ate_ci, _, _, bootstrap_ipw_ate, _, _ = bci(x, t, y, calculate_measures_ipw)\n",
    "\n",
    "            # Store the results\n",
    "            ate_results_ci[(age_threshold, outcome_type, 'IPW')] = ipw_ate_ci\n",
    "\n",
    "            # Print results for each configuration\n",
    "            print(f'IPW ATE 95% CI (Age >= {age_threshold}, Outcome: {outcome_type}): {ipw_ate_ci}')\n",
    "        else:\n",
    "            print(f\"Warning: {DATA_PATH} not found. Skipping.\")"
   ]
  },
  {
   "cell_type": "markdown",
   "metadata": {},
   "source": [
    "### Propensity Score Matching"
   ]
  },
  {
   "cell_type": "code",
   "execution_count": 118,
   "metadata": {},
   "outputs": [
    {
     "name": "stdout",
     "output_type": "stream",
     "text": [
      "Processing: data/processed/processed_age_20_outcome_strict.csv\n",
      "PSM ATE (Age >= 20, Outcome: strict): -0.14248195304442146\n",
      "Processing: data/processed/processed_age_20_outcome_inclusive.csv\n",
      "PSM ATE (Age >= 20, Outcome: inclusive): -0.13617446399992567\n",
      "Processing: data/processed/processed_age_21_outcome_strict.csv\n",
      "PSM ATE (Age >= 21, Outcome: strict): -0.19709713341390964\n",
      "Processing: data/processed/processed_age_21_outcome_inclusive.csv\n",
      "PSM ATE (Age >= 21, Outcome: inclusive): -0.0980144250359606\n",
      "Processing: data/processed/processed_age_23_outcome_strict.csv\n",
      "PSM ATE (Age >= 23, Outcome: strict): -0.2538187678372701\n",
      "Processing: data/processed/processed_age_23_outcome_inclusive.csv\n",
      "PSM ATE (Age >= 23, Outcome: inclusive): -0.2633287048828252\n"
     ]
    }
   ],
   "source": [
    "# Iterate through all dataset configurations\n",
    "for age_threshold in age_thresholds:\n",
    "    for outcome_type in outcome_definitions:\n",
    "        # Construct file path\n",
    "        DATA_PATH = os.path.join(DATA_DIR, f\"processed_age_{age_threshold}_outcome_{outcome_type}.csv\")\n",
    "\n",
    "        if os.path.exists(DATA_PATH):\n",
    "            print(f\"Processing: {DATA_PATH}\")\n",
    "            x, t, y = read_and_transform_data(DATA_PATH)\n",
    "\n",
    "            # Compute only the ATE using PSM\n",
    "            psm_ate, _, _ = calculate_measures_matching(x, t, y)\n",
    "\n",
    "            # Store the results\n",
    "            ate_results[(age_threshold, outcome_type, 'PSM')] = psm_ate\n",
    "\n",
    "            # Print the results for each configuration\n",
    "            print(f'PSM ATE (Age >= {age_threshold}, Outcome: {outcome_type}): {psm_ate}')\n",
    "        else:\n",
    "            print(f\"Warning: {DATA_PATH} not found. Skipping.\")"
   ]
  },
  {
   "cell_type": "code",
   "execution_count": 119,
   "metadata": {},
   "outputs": [
    {
     "name": "stdout",
     "output_type": "stream",
     "text": [
      "Processing: data/processed/processed_age_20_outcome_strict.csv\n",
      "PSM ATE 95% CI (Age >= 20, Outcome: strict): [-0.2059462   0.17288203]\n",
      "Processing: data/processed/processed_age_20_outcome_inclusive.csv\n",
      "PSM ATE 95% CI (Age >= 20, Outcome: inclusive): [-0.19578476  0.15324533]\n",
      "Processing: data/processed/processed_age_21_outcome_strict.csv\n",
      "PSM ATE 95% CI (Age >= 21, Outcome: strict): [-0.30213103  0.09017438]\n",
      "Processing: data/processed/processed_age_21_outcome_inclusive.csv\n",
      "PSM ATE 95% CI (Age >= 21, Outcome: inclusive): [-0.29704038  0.05667493]\n",
      "Processing: data/processed/processed_age_23_outcome_strict.csv\n",
      "PSM ATE 95% CI (Age >= 23, Outcome: strict): [-0.44176736 -0.05015727]\n",
      "Processing: data/processed/processed_age_23_outcome_inclusive.csv\n",
      "PSM ATE 95% CI (Age >= 23, Outcome: inclusive): [-0.41811532 -0.01295198]\n"
     ]
    }
   ],
   "source": [
    "# Iterate through all dataset configurations\n",
    "for age_threshold in age_thresholds:\n",
    "    for outcome_type in outcome_definitions:\n",
    "        # Construct file path\n",
    "        DATA_PATH = os.path.join(DATA_DIR, f\"processed_age_{age_threshold}_outcome_{outcome_type}.csv\")\n",
    "\n",
    "        if os.path.exists(DATA_PATH):\n",
    "            print(f\"Processing: {DATA_PATH}\")\n",
    "            x, t, y = read_and_transform_data(DATA_PATH)\n",
    "\n",
    "            # Compute ATE with bootstrap confidence interval\n",
    "            psm_ate_ci, _, _, bootstrap_psm_ate, _, _ = bci(x, t, y, calculate_measures_matching)\n",
    "\n",
    "            # Store the results\n",
    "            ate_results_ci[(age_threshold, outcome_type, 'PSM')] = psm_ate_ci\n",
    "\n",
    "            # Print results for each configuration\n",
    "            print(f'PSM ATE 95% CI (Age >= {age_threshold}, Outcome: {outcome_type}): {psm_ate_ci}')\n",
    "        else:\n",
    "            print(f\"Warning: {DATA_PATH} not found. Skipping.\")"
   ]
  },
  {
   "cell_type": "markdown",
   "metadata": {},
   "source": [
    "## Doubly Robust"
   ]
  },
  {
   "cell_type": "code",
   "execution_count": 120,
   "metadata": {},
   "outputs": [
    {
     "name": "stdout",
     "output_type": "stream",
     "text": [
      "Processing: data/processed/processed_age_20_outcome_strict.csv\n",
      "Doubly Robust ATE (Age >= 20, Outcome: strict): -0.09945953438552729\n",
      "Processing: data/processed/processed_age_20_outcome_inclusive.csv\n",
      "Doubly Robust ATE (Age >= 20, Outcome: inclusive): -0.06315125310824432\n",
      "Processing: data/processed/processed_age_21_outcome_strict.csv\n",
      "Doubly Robust ATE (Age >= 21, Outcome: strict): -0.14721932246327757\n",
      "Processing: data/processed/processed_age_21_outcome_inclusive.csv\n",
      "Doubly Robust ATE (Age >= 21, Outcome: inclusive): -0.12379891314870717\n",
      "Processing: data/processed/processed_age_23_outcome_strict.csv\n",
      "Doubly Robust ATE (Age >= 23, Outcome: strict): -0.2601591232430755\n",
      "Processing: data/processed/processed_age_23_outcome_inclusive.csv\n",
      "Doubly Robust ATE (Age >= 23, Outcome: inclusive): -0.23557950919004988\n"
     ]
    }
   ],
   "source": [
    "# Iterate through all dataset configurations\n",
    "for age_threshold in age_thresholds:\n",
    "    for outcome_type in outcome_definitions:\n",
    "        # Construct file path\n",
    "        DATA_PATH = os.path.join(DATA_DIR, f\"processed_age_{age_threshold}_outcome_{outcome_type}.csv\")\n",
    "\n",
    "        if os.path.exists(DATA_PATH):\n",
    "            print(f\"Processing: {DATA_PATH}\")\n",
    "            x, t, y = read_and_transform_data(DATA_PATH)\n",
    "\n",
    "            # Compute only the ATE using Doubly Robust\n",
    "            dr_ate, _, _ = calculate_measures_doubly_robust(x, t, y)\n",
    "\n",
    "            # Store the results\n",
    "            ate_results[(age_threshold, outcome_type, 'Doubly Robust')] = dr_ate\n",
    "\n",
    "            # Print the results for each configuration\n",
    "            print(f'Doubly Robust ATE (Age >= {age_threshold}, Outcome: {outcome_type}): {dr_ate}')\n",
    "        else:\n",
    "            print(f\"Warning: {DATA_PATH} not found. Skipping.\")"
   ]
  },
  {
   "cell_type": "code",
   "execution_count": 121,
   "metadata": {},
   "outputs": [
    {
     "name": "stdout",
     "output_type": "stream",
     "text": [
      "Processing: data/processed/processed_age_20_outcome_strict.csv\n",
      "Doubly Robust ATE 95% CI (Age >= 20, Outcome: strict): [-0.18291656 -0.05677452]\n",
      "Processing: data/processed/processed_age_20_outcome_inclusive.csv\n",
      "Doubly Robust ATE 95% CI (Age >= 20, Outcome: inclusive): [-0.1345062  -0.02908434]\n",
      "Processing: data/processed/processed_age_21_outcome_strict.csv\n",
      "Doubly Robust ATE 95% CI (Age >= 21, Outcome: strict): [-0.22262693 -0.10639188]\n",
      "Processing: data/processed/processed_age_21_outcome_inclusive.csv\n",
      "Doubly Robust ATE 95% CI (Age >= 21, Outcome: inclusive): [-0.17531483 -0.07438542]\n",
      "Processing: data/processed/processed_age_23_outcome_strict.csv\n",
      "Doubly Robust ATE 95% CI (Age >= 23, Outcome: strict): [-0.33464984 -0.19834365]\n",
      "Processing: data/processed/processed_age_23_outcome_inclusive.csv\n",
      "Doubly Robust ATE 95% CI (Age >= 23, Outcome: inclusive): [-0.31882298 -0.16657748]\n"
     ]
    }
   ],
   "source": [
    "# Iterate through all dataset configurations\n",
    "for age_threshold in age_thresholds:\n",
    "    for outcome_type in outcome_definitions:\n",
    "        # Construct file path\n",
    "        DATA_PATH = os.path.join(DATA_DIR, f\"processed_age_{age_threshold}_outcome_{outcome_type}.csv\")\n",
    "\n",
    "        if os.path.exists(DATA_PATH):\n",
    "            print(f\"Processing: {DATA_PATH}\")\n",
    "            x, t, y = read_and_transform_data(DATA_PATH)\n",
    "\n",
    "            # Compute ATE with bootstrap confidence interval\n",
    "            dr_ate_ci, _, _, bootstrap_dr_ate, _, _ = bci(x, t, y, calculate_measures_doubly_robust)\n",
    "\n",
    "            # Store the results\n",
    "            ate_results_ci[(age_threshold, outcome_type, 'Doubly Robust')] = dr_ate_ci\n",
    "\n",
    "            # Print results for each configuration\n",
    "            print(f'Doubly Robust ATE 95% CI (Age >= {age_threshold}, Outcome: {outcome_type}): {dr_ate_ci}')\n",
    "        else:\n",
    "            print(f\"Warning: {DATA_PATH} not found. Skipping.\")"
   ]
  },
  {
   "cell_type": "markdown",
   "metadata": {},
   "source": [
    "## Saving the Results"
   ]
  },
  {
   "cell_type": "code",
   "execution_count": 122,
   "metadata": {},
   "outputs": [
    {
     "name": "stdout",
     "output_type": "stream",
     "text": [
      "ATE results with confidence intervals saved to results/ate_results_with_ci.csv\n"
     ]
    }
   ],
   "source": [
    "# Convert dictionary to a list of tuples for DataFrame creation\n",
    "data = [\n",
    "    (age, outcome, model, ate, ci[0], ci[1]) \n",
    "    for (age, outcome, model), ate in ate_results.items()\n",
    "    for ci in [ate_results_ci.get((age, outcome, model), [None, None])]\n",
    "]\n",
    "\n",
    "# Create DataFrame with separate columns for each tuple element and confidence interval bounds\n",
    "df_ate_results = pd.DataFrame(data, columns=[\"Age Threshold\", \"Outcome Type\", \"Model\", \"ATE\", \"CI Lower\", \"CI Upper\"])\n",
    "df_ate_results = df_ate_results.round(4)\n",
    "\n",
    "# Save to CSV file\n",
    "csv_file_path = \"results/ate_results_with_ci.csv\"\n",
    "df_ate_results.to_csv(csv_file_path, index=False)\n",
    "\n",
    "print(f\"ATE results with confidence intervals saved to {csv_file_path}\")"
   ]
  },
  {
   "cell_type": "markdown",
   "metadata": {},
   "source": [
    "## Plot of the Results"
   ]
  },
  {
   "cell_type": "code",
   "execution_count": 123,
   "metadata": {},
   "outputs": [
    {
     "data": {
      "image/png": "[encoded data removed]",
      "text/plain": [
       "<Figure size 2000x1200 with 1 Axes>"
      ]
     },
     "metadata": {},
     "output_type": "display_data"
    }
   ],
   "source": [
    "# Extract ATE values\n",
    "ate_values = list(ate_results.values())\n",
    "ate_values = [round(ate, 2) for ate in ate_values]\n",
    "\n",
    "# Count occurrences of each ATE\n",
    "ate_counts = Counter(ate_values)\n",
    "\n",
    "# Convert to lists for plotting\n",
    "unique_ates = list(ate_counts.keys())\n",
    "counts = list(ate_counts.values())\n",
    "\n",
    "# Add missing ATE values\n",
    "ate_range = np.round(np.arange(-0.4, 0.01, 0.01), 2)\n",
    "for ate in ate_range:\n",
    "    if ate not in unique_ates:\n",
    "        unique_ates.append(ate)\n",
    "        counts.append(0)\n",
    "\n",
    "# Plot the bar chart\n",
    "plt.figure(figsize=(20, 12))\n",
    "sns.barplot(x=unique_ates, y=counts, color=\"royalblue\")\n",
    "\n",
    "# Labels and title\n",
    "plt.xlabel(\"Average Treatment Effect (ATE)\", fontsize=12)\n",
    "plt.ylabel(\"Number of Configurations\", fontsize=12)\n",
    "plt.title(\"Distribution of ATE Across Configurations\", fontsize=14)\n",
    "\n",
    "plt.yticks([0, 1, 2, 3])\n",
    "\n",
    "# Show the plot\n",
    "plt.show()"
   ]
  }
 ],
 "metadata": {
  "kernelspec": {
   "display_name": "Python 3",
   "language": "python",
   "name": "python3"
  },
  "language_info": {
   "codemirror_mode": {
    "name": "ipython",
    "version": 3
   },
   "file_extension": ".py",
   "mimetype": "text/x-python",
   "name": "python",
   "nbconvert_exporter": "python",
   "pygments_lexer": "ipython3",
   "version": "3.9.6"
  }
 },
 "nbformat": 4,
 "nbformat_minor": 2
}
